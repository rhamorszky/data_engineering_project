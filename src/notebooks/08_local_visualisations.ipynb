{
 "cells": [
  {
   "cell_type": "code",
   "execution_count": 45,
   "metadata": {},
   "outputs": [],
   "source": [
    "from io import StringIO\n",
    "import os\n",
    "\n",
    "import boto3\n",
    "import pandas as pd\n",
    "\n",
    "pd.set_option(\"display.max_columns\", 50)"
   ]
  },
  {
   "cell_type": "code",
   "execution_count": 32,
   "metadata": {},
   "outputs": [],
   "source": [
    "aws_access_key_id = os.getenv(\"AWS_ACCESS_KEY\")\n",
    "aws_secret_key = os.getenv(\"AWS_SECRET_KEY\")"
   ]
  },
  {
   "cell_type": "code",
   "execution_count": 33,
   "metadata": {},
   "outputs": [],
   "source": [
    "def read_csv_from_s3(bucket: str, path: str, filename: str) -> pd.DataFrame:\n",
    "    \"\"\"Downloads a csv file from an S3 bucket.\n",
    "\n",
    "    Parameters\n",
    "    ----------\n",
    "    bucket : str\n",
    "        The bucket where the files at.\n",
    "    path : str\n",
    "        The folders to the file.\n",
    "    filename : str\n",
    "        Name of the file.\n",
    "\n",
    "    Returns\n",
    "    -------\n",
    "    pd.DataFrame\n",
    "        A DataFrame of the downloaded file.\n",
    "    \"\"\"\n",
    "\n",
    "    s3 = boto3.client(\"s3\", aws_access_key_id=aws_access_key_id, aws_secret_access_key=aws_secret_key)\n",
    "    full_path = f\"{path}{filename}\"\n",
    "\n",
    "    object = s3.get_object(Bucket=bucket, Key=full_path)\n",
    "    object = object[\"Body\"].read().decode(\"utf-8\")\n",
    "    output_df = pd.read_csv(StringIO(object))\n",
    "\n",
    "    return output_df"
   ]
  },
  {
   "cell_type": "code",
   "execution_count": 34,
   "metadata": {},
   "outputs": [],
   "source": [
    "s3 = boto3.client(\n",
    "        \"s3\",\n",
    "        aws_access_key_id=aws_access_key_id,\n",
    "        aws_secret_access_key=aws_secret_key\n",
    "    )\n",
    "bucket = \"cubix-chicago-taxi-bb-rita\"\n",
    "\n",
    "community_areas_path = \"transformed_data/community_areas/\"\n",
    "company_path = \"transformed_data/company/\"\n",
    "date_path = \"transformed_data/date/\"\n",
    "payment_type_path = \"transformed_data/payment_type/\"\n",
    "taxi_trips_path = \"transformed_data/taxi_trips/\"\n",
    "weather_path = \"transformed_data/weather/\""
   ]
  },
  {
   "cell_type": "code",
   "execution_count": 35,
   "metadata": {},
   "outputs": [],
   "source": [
    "community_areas = read_csv_from_s3(bucket, community_areas_path, \"community_areas_master.csv\")\n",
    "company = read_csv_from_s3(bucket, company_path, \"company_master.csv\")\n",
    "date = read_csv_from_s3(bucket, date_path, \"date_dimension.csv\")\n",
    "payment_type = read_csv_from_s3(bucket=bucket, path=payment_type_path, filename=\"payment_type_master.csv\")"
   ]
  },
  {
   "cell_type": "code",
   "execution_count": 36,
   "metadata": {},
   "outputs": [],
   "source": [
    "trips_list = []\n",
    "weather_list = []"
   ]
  },
  {
   "cell_type": "code",
   "execution_count": 37,
   "metadata": {},
   "outputs": [
    {
     "name": "stdout",
     "output_type": "stream",
     "text": [
      "taxi_2024-10-03.csv has been added.\n",
      "taxi_2024-10-04.csv has been added.\n",
      "taxi_2024-10-05.csv has been added.\n",
      "taxi_2024-10-06.csv has been added.\n",
      "taxi_2024-10-07.csv has been added.\n",
      "taxi_2024-10-08.csv has been added.\n",
      "taxi_2024-10-09.csv has been added.\n",
      "taxi_2024-10-10.csv has been added.\n",
      "taxi_2024-10-11.csv has been added.\n",
      "taxi_2024-10-12.csv has been added.\n",
      "taxi_2024-10-13.csv has been added.\n",
      "taxi_2024-10-14.csv has been added.\n",
      "taxi_2024-10-15.csv has been added.\n",
      "taxi_2024-10-16.csv has been added.\n",
      "taxi_2024-10-17.csv has been added.\n",
      "taxi_2024-10-18.csv has been added.\n",
      "taxi_2024-10-19.csv has been added.\n",
      "taxi_2024-10-20.csv has been added.\n",
      "taxi_2024-10-21.csv has been added.\n"
     ]
    }
   ],
   "source": [
    "for file in s3.list_objects(Bucket=bucket, Prefix=taxi_trips_path)['Contents']:\n",
    "    taxi_trip_key = file['Key']\n",
    "\n",
    "    if taxi_trip_key.split(\"/\")[-1].strip() != \"\":\n",
    "        if taxi_trip_key.split(\".\")[-1] == \"csv\":\n",
    "            filename = taxi_trip_key.split(\"/\")[-1]\n",
    "            trip = read_csv_from_s3(bucket, taxi_trips_path, filename)\n",
    "\n",
    "            trips_list.append(trip)\n",
    "            print(f\"{filename} has been added.\")"
   ]
  },
  {
   "cell_type": "code",
   "execution_count": 38,
   "metadata": {},
   "outputs": [],
   "source": [
    "trips = pd.concat(trips_list, ignore_index = True)"
   ]
  },
  {
   "cell_type": "code",
   "execution_count": 39,
   "metadata": {},
   "outputs": [
    {
     "name": "stdout",
     "output_type": "stream",
     "text": [
      "<class 'pandas.core.frame.DataFrame'>\n",
      "RangeIndex: 332805 entries, 0 to 332804\n",
      "Data columns (total 20 columns):\n",
      " #   Column                      Non-Null Count   Dtype  \n",
      "---  ------                      --------------   -----  \n",
      " 0   trip_id                     332805 non-null  object \n",
      " 1   taxi_id                     332805 non-null  object \n",
      " 2   trip_start_timestamp        332805 non-null  object \n",
      " 3   trip_end_timestamp          332805 non-null  object \n",
      " 4   trip_seconds                332805 non-null  int64  \n",
      " 5   trip_miles                  332805 non-null  float64\n",
      " 6   pickup_community_area_id    332805 non-null  int64  \n",
      " 7   dropoff_community_area_id   332805 non-null  int64  \n",
      " 8   fare                        332805 non-null  float64\n",
      " 9   tips                        332805 non-null  float64\n",
      " 10  tolls                       332805 non-null  float64\n",
      " 11  extras                      332805 non-null  float64\n",
      " 12  trip_total                  332805 non-null  float64\n",
      " 13  pickup_centroid_latitude    332805 non-null  float64\n",
      " 14  pickup_centroid_longitude   332805 non-null  float64\n",
      " 15  dropoff_centroid_latitude   332805 non-null  float64\n",
      " 16  dropoff_centroid_longitude  332805 non-null  float64\n",
      " 17  datetime_for_weather        332805 non-null  object \n",
      " 18  payment_type_id             332805 non-null  int64  \n",
      " 19  company_id                  332805 non-null  int64  \n",
      "dtypes: float64(10), int64(5), object(5)\n",
      "memory usage: 50.8+ MB\n"
     ]
    },
    {
     "data": {
      "text/plain": [
       "(332805, 20)"
      ]
     },
     "execution_count": 39,
     "metadata": {},
     "output_type": "execute_result"
    }
   ],
   "source": [
    "trips.head()\n",
    "trips.info()\n",
    "trips.shape"
   ]
  },
  {
   "cell_type": "code",
   "execution_count": 40,
   "metadata": {},
   "outputs": [
    {
     "name": "stdout",
     "output_type": "stream",
     "text": [
      "weather_2024-10-03.csv has been added.\n",
      "weather_2024-10-04.csv has been added.\n",
      "weather_2024-10-05.csv has been added.\n",
      "weather_2024-10-06.csv has been added.\n",
      "weather_2024-10-07.csv has been added.\n",
      "weather_2024-10-08.csv has been added.\n",
      "weather_2024-10-09.csv has been added.\n",
      "weather_2024-10-10.csv has been added.\n",
      "weather_2024-10-11.csv has been added.\n",
      "weather_2024-10-12.csv has been added.\n",
      "weather_2024-10-13.csv has been added.\n",
      "weather_2024-10-14.csv has been added.\n",
      "weather_2024-10-15.csv has been added.\n",
      "weather_2024-10-16.csv has been added.\n",
      "weather_2024-10-17.csv has been added.\n",
      "weather_2024-10-18.csv has been added.\n",
      "weather_2024-10-19.csv has been added.\n",
      "weather_2024-10-20.csv has been added.\n",
      "weather_2024-10-21.csv has been added.\n"
     ]
    }
   ],
   "source": [
    "for file in s3.list_objects(Bucket=bucket, Prefix=weather_path)[\"Contents\"]:\n",
    "    weather_key = file[\"Key\"]\n",
    "\n",
    "    if weather_key.split(\"/\")[-1].strip() != \"\":\n",
    "        if weather_key.split(\".\")[-1] == \"csv\":\n",
    "\n",
    "            filename = weather_key.split(\"/\")[-1]\n",
    "            weather_daily = read_csv_from_s3(bucket, weather_path, filename)\n",
    "\n",
    "            weather_list.append(weather_daily)\n",
    "            print(f\"{filename} has been added.\")"
   ]
  },
  {
   "cell_type": "code",
   "execution_count": 41,
   "metadata": {},
   "outputs": [],
   "source": [
    "weather = pd.concat(weather_list, ignore_index = True)"
   ]
  },
  {
   "cell_type": "code",
   "execution_count": 42,
   "metadata": {},
   "outputs": [
    {
     "name": "stdout",
     "output_type": "stream",
     "text": [
      "<class 'pandas.core.frame.DataFrame'>\n",
      "RangeIndex: 456 entries, 0 to 455\n",
      "Data columns (total 5 columns):\n",
      " #   Column         Non-Null Count  Dtype  \n",
      "---  ------         --------------  -----  \n",
      " 0   datetime       456 non-null    object \n",
      " 1   temperature    456 non-null    float64\n",
      " 2   wind_speed     456 non-null    float64\n",
      " 3   rain           456 non-null    float64\n",
      " 4   precipitation  456 non-null    float64\n",
      "dtypes: float64(4), object(1)\n",
      "memory usage: 17.9+ KB\n"
     ]
    },
    {
     "data": {
      "text/plain": [
       "(456, 5)"
      ]
     },
     "execution_count": 42,
     "metadata": {},
     "output_type": "execute_result"
    }
   ],
   "source": [
    "weather.head()\n",
    "weather.info()\n",
    "weather.shape"
   ]
  },
  {
   "cell_type": "code",
   "execution_count": 46,
   "metadata": {},
   "outputs": [],
   "source": [
    "trips_full = pd.merge(trips, weather, left_on=\"datetime_for_weather\", right_on=\"datetime\", how=\"inner\")\n",
    "trips_full = trips_full.drop(columns=[\"datetime\"])\n"
   ]
  },
  {
   "cell_type": "code",
   "execution_count": 47,
   "metadata": {},
   "outputs": [],
   "source": [
    "trips_full = pd.merge(trips_full, company, left_on=\"company_id\", right_on=\"company_id\", how=\"inner\")\n",
    "trips_full = trips_full.drop(columns=[\"company_id\"])\n"
   ]
  },
  {
   "cell_type": "code",
   "execution_count": 48,
   "metadata": {},
   "outputs": [],
   "source": [
    "\n",
    "trips_full = pd.merge(trips_full, payment_type, left_on=\"payment_type_id\", right_on=\"payment_type_id\", how=\"inner\")\n",
    "trips_full = trips_full.drop(columns=[\"payment_type_id\"])\n"
   ]
  },
  {
   "cell_type": "code",
   "execution_count": 49,
   "metadata": {},
   "outputs": [],
   "source": [
    "\n",
    "trips_full = pd.merge(trips_full, community_areas, left_on=\"pickup_community_area_id\", right_on=\"area_code\", how=\"inner\")\n",
    "trips_full = trips_full.drop(columns=[\"pickup_community_area_id\", \"area_code\"])\n",
    "trips_full.rename(columns={\"community_name\": \"pickup_community_area_name\"}, inplace=True)\n"
   ]
  },
  {
   "cell_type": "code",
   "execution_count": 50,
   "metadata": {},
   "outputs": [],
   "source": [
    "\n",
    "trips_full = pd.merge(trips_full, community_areas, left_on=\"dropoff_community_area_id\", right_on=\"area_code\", how=\"inner\")\n",
    "trips_full = trips_full.drop(columns=[\"dropoff_community_area_id\", \"area_code\"])\n",
    "trips_full.rename(columns={\"community_name\": \"dropoff_community_area_name\"}, inplace=True)"
   ]
  },
  {
   "cell_type": "code",
   "execution_count": 53,
   "metadata": {},
   "outputs": [],
   "source": [
    "date['date'] = pd.to_datetime(date['date'])\n",
    "trips_full['trip_start_timestamp'] = pd.to_datetime(trips_full['trip_start_timestamp'])\n",
    "trips_full['trip_start_date'] = trips_full['trip_start_timestamp'].dt.date\n",
    "trips_full['trip_start_date'] = pd.to_datetime(trips_full['trip_start_date'])\n"
   ]
  },
  {
   "cell_type": "code",
   "execution_count": 54,
   "metadata": {},
   "outputs": [],
   "source": [
    "\n",
    "trips_full = pd.merge(trips_full, date, left_on=\"trip_start_date\", right_on=\"date\", how=\"inner\")\n",
    "trips_full = trips_full.drop(columns=[\"date\"])"
   ]
  },
  {
   "cell_type": "code",
   "execution_count": 55,
   "metadata": {},
   "outputs": [
    {
     "name": "stdout",
     "output_type": "stream",
     "text": [
      "<class 'pandas.core.frame.DataFrame'>\n",
      "RangeIndex: 332329 entries, 0 to 332328\n",
      "Data columns (total 30 columns):\n",
      " #   Column                       Non-Null Count   Dtype         \n",
      "---  ------                       --------------   -----         \n",
      " 0   trip_id                      332329 non-null  object        \n",
      " 1   taxi_id                      332329 non-null  object        \n",
      " 2   trip_start_timestamp         332329 non-null  datetime64[ns]\n",
      " 3   trip_end_timestamp           332329 non-null  object        \n",
      " 4   trip_seconds                 332329 non-null  int64         \n",
      " 5   trip_miles                   332329 non-null  float64       \n",
      " 6   fare                         332329 non-null  float64       \n",
      " 7   tips                         332329 non-null  float64       \n",
      " 8   tolls                        332329 non-null  float64       \n",
      " 9   extras                       332329 non-null  float64       \n",
      " 10  trip_total                   332329 non-null  float64       \n",
      " 11  pickup_centroid_latitude     332329 non-null  float64       \n",
      " 12  pickup_centroid_longitude    332329 non-null  float64       \n",
      " 13  dropoff_centroid_latitude    332329 non-null  float64       \n",
      " 14  dropoff_centroid_longitude   332329 non-null  float64       \n",
      " 15  datetime_for_weather         332329 non-null  object        \n",
      " 16  temperature                  332329 non-null  float64       \n",
      " 17  wind_speed                   332329 non-null  float64       \n",
      " 18  rain                         332329 non-null  float64       \n",
      " 19  precipitation                332329 non-null  float64       \n",
      " 20  company                      332329 non-null  object        \n",
      " 21  payment_type                 332329 non-null  object        \n",
      " 22  pickup_community_area_name   332329 non-null  object        \n",
      " 23  dropoff_community_area_name  332329 non-null  object        \n",
      " 24  trip_start_date              332329 non-null  datetime64[ns]\n",
      " 25  year                         332329 non-null  int64         \n",
      " 26  month                        332329 non-null  int64         \n",
      " 27  day                          332329 non-null  int64         \n",
      " 28  day_of_week                  332329 non-null  int64         \n",
      " 29  is_weekend                   332329 non-null  bool          \n",
      "dtypes: bool(1), datetime64[ns](2), float64(14), int64(5), object(8)\n",
      "memory usage: 73.8+ MB\n"
     ]
    },
    {
     "data": {
      "text/plain": [
       "(332329, 30)"
      ]
     },
     "execution_count": 55,
     "metadata": {},
     "output_type": "execute_result"
    }
   ],
   "source": [
    "trips_full.head()\n",
    "trips_full.info()\n",
    "trips_full.shape"
   ]
  },
  {
   "cell_type": "code",
   "execution_count": 8,
   "metadata": {},
   "outputs": [
    {
     "data": {
      "text/html": [
       "<div>\n",
       "<style scoped>\n",
       "    .dataframe tbody tr th:only-of-type {\n",
       "        vertical-align: middle;\n",
       "    }\n",
       "\n",
       "    .dataframe tbody tr th {\n",
       "        vertical-align: top;\n",
       "    }\n",
       "\n",
       "    .dataframe thead th {\n",
       "        text-align: right;\n",
       "    }\n",
       "</style>\n",
       "<table border=\"1\" class=\"dataframe\">\n",
       "  <thead>\n",
       "    <tr style=\"text-align: right;\">\n",
       "      <th></th>\n",
       "      <th>area_code</th>\n",
       "      <th>community_name</th>\n",
       "    </tr>\n",
       "  </thead>\n",
       "  <tbody>\n",
       "    <tr>\n",
       "      <th>0</th>\n",
       "      <td>1</td>\n",
       "      <td>Rogers Park</td>\n",
       "    </tr>\n",
       "    <tr>\n",
       "      <th>1</th>\n",
       "      <td>2</td>\n",
       "      <td>West Ridge</td>\n",
       "    </tr>\n",
       "    <tr>\n",
       "      <th>2</th>\n",
       "      <td>3</td>\n",
       "      <td>Uptown</td>\n",
       "    </tr>\n",
       "    <tr>\n",
       "      <th>3</th>\n",
       "      <td>4</td>\n",
       "      <td>Lincoln Square</td>\n",
       "    </tr>\n",
       "    <tr>\n",
       "      <th>4</th>\n",
       "      <td>5</td>\n",
       "      <td>North Center</td>\n",
       "    </tr>\n",
       "  </tbody>\n",
       "</table>\n",
       "</div>"
      ],
      "text/plain": [
       "   area_code  community_name\n",
       "0          1     Rogers Park\n",
       "1          2      West Ridge\n",
       "2          3          Uptown\n",
       "3          4  Lincoln Square\n",
       "4          5    North Center"
      ]
     },
     "execution_count": 8,
     "metadata": {},
     "output_type": "execute_result"
    }
   ],
   "source": [
    "community_areas.head()"
   ]
  },
  {
   "cell_type": "code",
   "execution_count": 12,
   "metadata": {},
   "outputs": [
    {
     "data": {
      "text/html": [
       "<div>\n",
       "<style scoped>\n",
       "    .dataframe tbody tr th:only-of-type {\n",
       "        vertical-align: middle;\n",
       "    }\n",
       "\n",
       "    .dataframe tbody tr th {\n",
       "        vertical-align: top;\n",
       "    }\n",
       "\n",
       "    .dataframe thead th {\n",
       "        text-align: right;\n",
       "    }\n",
       "</style>\n",
       "<table border=\"1\" class=\"dataframe\">\n",
       "  <thead>\n",
       "    <tr style=\"text-align: right;\">\n",
       "      <th></th>\n",
       "      <th>company_id</th>\n",
       "      <th>company</th>\n",
       "    </tr>\n",
       "  </thead>\n",
       "  <tbody>\n",
       "    <tr>\n",
       "      <th>30</th>\n",
       "      <td>31</td>\n",
       "      <td>3556 - 36214 RC Andrews Cab</td>\n",
       "    </tr>\n",
       "    <tr>\n",
       "      <th>31</th>\n",
       "      <td>32</td>\n",
       "      <td>6574 - Babylon Express Inc.</td>\n",
       "    </tr>\n",
       "    <tr>\n",
       "      <th>32</th>\n",
       "      <td>33</td>\n",
       "      <td>Tac - Yellow Non Color</td>\n",
       "    </tr>\n",
       "    <tr>\n",
       "      <th>33</th>\n",
       "      <td>34</td>\n",
       "      <td>Metro Jet Taxi A.</td>\n",
       "    </tr>\n",
       "    <tr>\n",
       "      <th>34</th>\n",
       "      <td>35</td>\n",
       "      <td>3591 - 63480 Chuks Cab</td>\n",
       "    </tr>\n",
       "  </tbody>\n",
       "</table>\n",
       "</div>"
      ],
      "text/plain": [
       "    company_id                      company\n",
       "30          31  3556 - 36214 RC Andrews Cab\n",
       "31          32  6574 - Babylon Express Inc.\n",
       "32          33       Tac - Yellow Non Color\n",
       "33          34            Metro Jet Taxi A.\n",
       "34          35       3591 - 63480 Chuks Cab"
      ]
     },
     "execution_count": 12,
     "metadata": {},
     "output_type": "execute_result"
    }
   ],
   "source": [
    "company.tail()"
   ]
  },
  {
   "cell_type": "code",
   "execution_count": 10,
   "metadata": {},
   "outputs": [
    {
     "data": {
      "text/html": [
       "<div>\n",
       "<style scoped>\n",
       "    .dataframe tbody tr th:only-of-type {\n",
       "        vertical-align: middle;\n",
       "    }\n",
       "\n",
       "    .dataframe tbody tr th {\n",
       "        vertical-align: top;\n",
       "    }\n",
       "\n",
       "    .dataframe thead th {\n",
       "        text-align: right;\n",
       "    }\n",
       "</style>\n",
       "<table border=\"1\" class=\"dataframe\">\n",
       "  <thead>\n",
       "    <tr style=\"text-align: right;\">\n",
       "      <th></th>\n",
       "      <th>date</th>\n",
       "      <th>year</th>\n",
       "      <th>month</th>\n",
       "      <th>day</th>\n",
       "      <th>day_of_week</th>\n",
       "      <th>is_weekend</th>\n",
       "    </tr>\n",
       "  </thead>\n",
       "  <tbody>\n",
       "    <tr>\n",
       "      <th>0</th>\n",
       "      <td>2023-01-01</td>\n",
       "      <td>2023</td>\n",
       "      <td>1</td>\n",
       "      <td>1</td>\n",
       "      <td>7</td>\n",
       "      <td>True</td>\n",
       "    </tr>\n",
       "    <tr>\n",
       "      <th>1</th>\n",
       "      <td>2023-01-02</td>\n",
       "      <td>2023</td>\n",
       "      <td>1</td>\n",
       "      <td>2</td>\n",
       "      <td>1</td>\n",
       "      <td>False</td>\n",
       "    </tr>\n",
       "    <tr>\n",
       "      <th>2</th>\n",
       "      <td>2023-01-03</td>\n",
       "      <td>2023</td>\n",
       "      <td>1</td>\n",
       "      <td>3</td>\n",
       "      <td>2</td>\n",
       "      <td>False</td>\n",
       "    </tr>\n",
       "    <tr>\n",
       "      <th>3</th>\n",
       "      <td>2023-01-04</td>\n",
       "      <td>2023</td>\n",
       "      <td>1</td>\n",
       "      <td>4</td>\n",
       "      <td>3</td>\n",
       "      <td>False</td>\n",
       "    </tr>\n",
       "    <tr>\n",
       "      <th>4</th>\n",
       "      <td>2023-01-05</td>\n",
       "      <td>2023</td>\n",
       "      <td>1</td>\n",
       "      <td>5</td>\n",
       "      <td>4</td>\n",
       "      <td>False</td>\n",
       "    </tr>\n",
       "  </tbody>\n",
       "</table>\n",
       "</div>"
      ],
      "text/plain": [
       "         date  year  month  day  day_of_week  is_weekend\n",
       "0  2023-01-01  2023      1    1            7        True\n",
       "1  2023-01-02  2023      1    2            1       False\n",
       "2  2023-01-03  2023      1    3            2       False\n",
       "3  2023-01-04  2023      1    4            3       False\n",
       "4  2023-01-05  2023      1    5            4       False"
      ]
     },
     "execution_count": 10,
     "metadata": {},
     "output_type": "execute_result"
    }
   ],
   "source": [
    "date.head()"
   ]
  },
  {
   "cell_type": "code",
   "execution_count": 11,
   "metadata": {},
   "outputs": [
    {
     "data": {
      "text/html": [
       "<div>\n",
       "<style scoped>\n",
       "    .dataframe tbody tr th:only-of-type {\n",
       "        vertical-align: middle;\n",
       "    }\n",
       "\n",
       "    .dataframe tbody tr th {\n",
       "        vertical-align: top;\n",
       "    }\n",
       "\n",
       "    .dataframe thead th {\n",
       "        text-align: right;\n",
       "    }\n",
       "</style>\n",
       "<table border=\"1\" class=\"dataframe\">\n",
       "  <thead>\n",
       "    <tr style=\"text-align: right;\">\n",
       "      <th></th>\n",
       "      <th>payment_type_id</th>\n",
       "      <th>payment_type</th>\n",
       "    </tr>\n",
       "  </thead>\n",
       "  <tbody>\n",
       "    <tr>\n",
       "      <th>0</th>\n",
       "      <td>1</td>\n",
       "      <td>Credit Card</td>\n",
       "    </tr>\n",
       "    <tr>\n",
       "      <th>1</th>\n",
       "      <td>2</td>\n",
       "      <td>Cash</td>\n",
       "    </tr>\n",
       "    <tr>\n",
       "      <th>2</th>\n",
       "      <td>3</td>\n",
       "      <td>Unknown</td>\n",
       "    </tr>\n",
       "    <tr>\n",
       "      <th>3</th>\n",
       "      <td>4</td>\n",
       "      <td>Prcard</td>\n",
       "    </tr>\n",
       "    <tr>\n",
       "      <th>4</th>\n",
       "      <td>5</td>\n",
       "      <td>Mobile</td>\n",
       "    </tr>\n",
       "  </tbody>\n",
       "</table>\n",
       "</div>"
      ],
      "text/plain": [
       "   payment_type_id payment_type\n",
       "0                1  Credit Card\n",
       "1                2         Cash\n",
       "2                3      Unknown\n",
       "3                4       Prcard\n",
       "4                5       Mobile"
      ]
     },
     "execution_count": 11,
     "metadata": {},
     "output_type": "execute_result"
    }
   ],
   "source": [
    "payment_type.head()"
   ]
  }
 ],
 "metadata": {
  "kernelspec": {
   "display_name": "venv",
   "language": "python",
   "name": "python3"
  },
  "language_info": {
   "codemirror_mode": {
    "name": "ipython",
    "version": 3
   },
   "file_extension": ".py",
   "mimetype": "text/x-python",
   "name": "python",
   "nbconvert_exporter": "python",
   "pygments_lexer": "ipython3",
   "version": "3.12.1"
  }
 },
 "nbformat": 4,
 "nbformat_minor": 2
}
